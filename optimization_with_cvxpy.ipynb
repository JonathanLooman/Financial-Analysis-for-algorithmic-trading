{
  "nbformat": 4,
  "nbformat_minor": 0,
  "metadata": {
    "colab": {
      "name": "optimization_with_cvxpy.ipynb",
      "provenance": [],
      "authorship_tag": "ABX9TyO3ug4td+72oHE6N4WJYHiE",
      "include_colab_link": true
    },
    "kernelspec": {
      "name": "python3",
      "display_name": "Python 3"
    }
  },
  "cells": [
    {
      "cell_type": "markdown",
      "metadata": {
        "id": "view-in-github",
        "colab_type": "text"
      },
      "source": [
        "<a href=\"https://colab.research.google.com/github/JonathanLooman/Financial-Analysis-for-algorithmic-trading/blob/master/optimization_with_cvxpy.ipynb\" target=\"_parent\"><img src=\"https://colab.research.google.com/assets/colab-badge.svg\" alt=\"Open In Colab\"/></a>"
      ]
    },
    {
      "cell_type": "markdown",
      "metadata": {
        "id": "Ai_uPS8NJqXZ",
        "colab_type": "text"
      },
      "source": [
        "# Using cvxpy to optomize portfolios\n",
        "Completed as part of the Udacity AI for trading course"
      ]
    },
    {
      "cell_type": "code",
      "metadata": {
        "id": "Qa3xKYUwJT4E",
        "colab_type": "code",
        "colab": {}
      },
      "source": [
        "#Imports\n",
        "import cvxpy as cvx\n",
        "import numpy as np"
      ],
      "execution_count": 2,
      "outputs": []
    },
    {
      "cell_type": "markdown",
      "metadata": {
        "id": "jqsyMeHmJgkh",
        "colab_type": "text"
      },
      "source": [
        "## Optimization with cvxpy\n",
        "\n",
        "http://www.cvxpy.org/\n",
        "\n",
        "Practice using cvxpy to solve a simple optimization problem. Find the optimal weights on a two-asset portfolio given the variance of Stock A, the variance of Stock B, and the correlation between Stocks A and B. Create a function that takes in these values as arguments and returns the vector of optimal weights, i.e., \n",
        "\n",
        "$\\mathbf{x} = \\begin{bmatrix}\n",
        "x_A & x_B\n",
        "\\end{bmatrix}\n",
        "$\n",
        "\n",
        "\n",
        "Remember that the constraint in this problem is: $x_A + x_B = 1$\n",
        "\n"
      ]
    },
    {
      "cell_type": "markdown",
      "metadata": {
        "id": "MghdwaMQJlPH",
        "colab_type": "text"
      },
      "source": [
        "### standard deviation\n",
        "standard deviation $\\sigma_A = \\sqrt(\\sigma^2_A)$, where $\\sigma^2_A$ is variance of $x_A$\n",
        "look at `np.sqrt()`\n",
        "\n",
        "### covariance\n",
        "correlation between the stocks is $\\rho_{A,B}$\n",
        "\n",
        "covariance between the stocks is $\\sigma_{A,B} = \\sigma_A \\times \\sigma_B \\times \\rho_{A,B}$\n",
        "\n",
        "### x vector\n",
        "create a vector of 2 x variables $\\mathbf{x} = \\begin{bmatrix}\n",
        "x_A & x_B\n",
        "\\end{bmatrix}\n",
        "$\n",
        "we can use `cvx.Variable(2)`\n",
        "\n",
        "### covariance matrix\n",
        "The covariance matrix $P = \n",
        "\\begin{bmatrix}\n",
        "\\sigma^2_A & \\sigma_{A,B} \\\\ \n",
        "\\sigma_{A,B} & \\sigma^2_B \n",
        "\\end{bmatrix}$\n",
        "\n",
        "We can create a 2 x 2 matrix using a 2-dimensional numpy array\n",
        "`np.array([[\"Cindy\", \"Liz\"],[\"Eddy\", \"Brok\"]])`\n",
        "\n",
        "### quadratic form\n",
        "We can write the portfolio variance $\\sigma^2_p = \\mathbf{x^T} \\mathbf{P} \\mathbf{x}$\n",
        "\n",
        "Recall that the $\\mathbf{x^T} \\mathbf{P} \\mathbf{x}$ is called the quadratic form.\n",
        "We can use the cvxpy function `quad_form(x,P)` to get the quadratic form.\n",
        "\n",
        "### objective function\n",
        "Next, we want to define the objective function.  In this case, we want to minimize something.  What do we want to minimize in this case?  We want to minimize the portfolio variance, which is defined by our quadratic form $\\mathbf{x^T} \\mathbf{P} \\mathbf{x}$\n",
        "\n",
        "We can find the objective function using cvxpy `objective = cvx.Minimize()`.  Can you guess what to pass into this function?\n",
        "\n",
        "\n",
        "### constraints\n",
        "We can also define our constraints in a list.  For example, if you wanted the $\\sum_{1}^{n}x = 1$, you could save a variable as `[sum(x)==1]`, where x was created using `cvx.Variable()`.\n",
        "\n",
        "### optimization\n",
        "So now that we have our objective function and constraints, we can solve for the values of $\\mathbf{x}$.\n",
        "cvxpy has the constructor `Problem(objective, constraints)`, which returns a `Problem` object.\n",
        "\n",
        "The `Problem` object has a function solve(), which returns the minimum of the solution.  In this case, this is the minimum variance of the portfolio.\n",
        "\n",
        "It also updates the vector $\\mathbf{x}$.\n",
        "\n",
        "We can check out the values of $x_A$ and $x_B$ that gave the minimum portfolio variance by using `x.value`"
      ]
    },
    {
      "cell_type": "code",
      "metadata": {
        "id": "6HhhkFKqJjdS",
        "colab_type": "code",
        "colab": {
          "base_uri": "https://localhost:8080/",
          "height": 84
        },
        "outputId": "8f33bd3d-21c4-494f-ac53-46bfa1830c6e"
      },
      "source": [
        "import cvxpy as cp\n",
        "import numpy as np\n",
        "\n",
        "# Problem data.\n",
        "m = 30\n",
        "n = 20\n",
        "np.random.seed(1)\n",
        "A = np.random.randn(m, n)\n",
        "b = np.random.randn(m)\n",
        "\n",
        "# Construct the problem.\n",
        "x = cp.Variable(n)\n",
        "objective = cp.Minimize(cp.sum_squares(A*x - b))\n",
        "constraints = [0 <= x, x <= 1]\n",
        "prob = cp.Problem(objective, constraints)\n",
        "\n",
        "# The optimal objective value is returned by `prob.solve()`.\n",
        "result = prob.solve()\n",
        "# The optimal value for x is stored in `x.value`.\n",
        "#print(x.value)\n",
        "# The optimal Lagrange multiplier for a constraint is stored in\n",
        "# `constraint.dual_value`.\n",
        "print(constraints[0].dual_value)"
      ],
      "execution_count": 5,
      "outputs": [
        {
          "output_type": "stream",
          "text": [
            "[ 2.50938945  0.          2.78354615  1.79425782 13.08579183  0.\n",
            "  0.73716363  3.35344995  0.          0.          8.93825054  0.\n",
            "  7.02955161  0.          4.71068649  3.18873635  2.06090107 10.08166738\n",
            "  3.0481157   8.53268239]\n"
          ],
          "name": "stdout"
        }
      ]
    },
    {
      "cell_type": "code",
      "metadata": {
        "id": "i3x94vgXJfng",
        "colab_type": "code",
        "colab": {}
      },
      "source": [
        "import cvxpy as cvx\n",
        "import numpy as np\n",
        "\n",
        "def optimize_twoasset_portfolio(varA, varB, rAB):\n",
        "    \"\"\"Create a function that takes in the variance of Stock A, the variance of\n",
        "    Stock B, and the correlation between Stocks A and B as arguments and returns \n",
        "    the vector of optimal weights\n",
        "    \n",
        "    Parameters\n",
        "    ----------\n",
        "    varA : float\n",
        "        The variance of Stock A.\n",
        "        \n",
        "    varB : float\n",
        "        The variance of Stock B.    \n",
        "        \n",
        "    rAB : float\n",
        "        The correlation between Stocks A and B.\n",
        "        \n",
        "    Returns\n",
        "    -------\n",
        "    x : np.ndarray\n",
        "        A 2-element numpy ndarray containing the weights on Stocks A and B,\n",
        "        [x_A, x_B], that minimize the portfolio variance.\n",
        "    \n",
        "    \"\"\"\n",
        "    # TODO: Use cvxpy to determine the weights on the assets in a 2-asset\n",
        "    # portfolio that minimize portfolio variance.\n",
        "    \n",
        "    cov =  np.sqrt(varA)*np.sqrt(varB)*rAB\n",
        "    \n",
        "    x =  cvx.Variable(2)\n",
        "    \n",
        "    P = np.array([[varA,cov],[cov, varB]]) \n",
        "    \n",
        "    objective = cvx.Minimize(cvx.quad_form(x, P))\n",
        "    \n",
        "    constraints = [sum(x)==1]\n",
        "    \n",
        "    problem = cvx.Problem(objective,constraints)\n",
        "    \n",
        "    min_value = problem.solve()\n",
        "    xA,xB = x.value\n",
        "    \n",
        "    # return xA and xB\n",
        "    return xA,xB\n",
        "\n"
      ],
      "execution_count": 13,
      "outputs": []
    },
    {
      "cell_type": "code",
      "metadata": {
        "id": "jUqRHir2Q9ST",
        "colab_type": "code",
        "colab": {
          "base_uri": "https://localhost:8080/",
          "height": 50
        },
        "outputId": "55d19abd-cd0d-452d-f420-b3c7b035c0bb"
      },
      "source": [
        "\"\"\"Test run optimize_twoasset_portfolio().\"\"\"\n",
        "xA,xB = optimize_twoasset_portfolio(0.1, 0.05, 0.25)\n",
        "print(\"Weight on Stock A: {:.6f}\".format(xA))\n",
        "print(\"Weight on Stock B: {:.6f}\".format(xB))"
      ],
      "execution_count": 14,
      "outputs": [
        {
          "output_type": "stream",
          "text": [
            "Weight on Stock A: 0.281935\n",
            "Weight on Stock B: 0.718065\n"
          ],
          "name": "stdout"
        }
      ]
    },
    {
      "cell_type": "markdown",
      "metadata": {
        "id": "Iho9cVFIRNT7",
        "colab_type": "text"
      },
      "source": [
        "Solve: Use problem.solve() to run the optimization solver.\n",
        "\n",
        "Status: Use problem.status to access the status of the problem and check whether it has been determined to be unfeasible or unbounded.\n",
        "\n",
        "Results: Use problem.value to access the optimal value of the objective function. Use e.g. x.value to access the optimal value of the optimization variable."
      ]
    }
  ]
}