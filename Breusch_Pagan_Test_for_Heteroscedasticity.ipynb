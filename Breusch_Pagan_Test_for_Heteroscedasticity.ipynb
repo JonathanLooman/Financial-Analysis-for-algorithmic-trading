{
  "nbformat": 4,
  "nbformat_minor": 0,
  "metadata": {
    "colab": {
      "name": "Breusch-Pagan Test for Heteroscedasticity.ipynb",
      "provenance": [],
      "authorship_tag": "ABX9TyOPN9+0MXo27TrDTbUO3A4w",
      "include_colab_link": true
    },
    "kernelspec": {
      "name": "python3",
      "display_name": "Python 3"
    }
  },
  "cells": [
    {
      "cell_type": "markdown",
      "metadata": {
        "id": "view-in-github",
        "colab_type": "text"
      },
      "source": [
        "<a href=\"https://colab.research.google.com/github/JonathanLooman/Financial-Analysis-for-algorithmic-trading/blob/master/Breusch_Pagan_Test_for_Heteroscedasticity.ipynb\" target=\"_parent\"><img src=\"https://colab.research.google.com/assets/colab-badge.svg\" alt=\"Open In Colab\"/></a>"
      ]
    },
    {
      "cell_type": "markdown",
      "metadata": {
        "id": "NtzKpbl0iJet",
        "colab_type": "text"
      },
      "source": [
        "# Breusch-Pagan Test for Heteroscedasticity\n",
        "The Breusch-Pagan test is one of many tests for homoscedasticity/heteroscedasticity. It takes the residuals from a regression, and checks if they are dependent upon the independent variables that we fed into the regression. \n",
        "\n",
        "The test does this by perfoming a second regression of the residuals against the independent variables, and checking if the coefficients from that second regression statistically significant (non-zero). If the coefficients of the second regression are significant, then te residuals depend upon the independent variables. If the residuals depend upon the independent variables, then it means that the variance of the data depends on the independent varibales. In other words, the data is likely heteroscedastic. So if the o-value of the Breusch-Pagan test is les than or equal to 0.05, we can assume with 95% confidentce that the distribution is heteroscedastic (not homoscedatsic).\n",
        "\n",
        "Thus the Null hypothesis of the Breusch-Pagan test is that the data is homoscedastic and the alternative hypothesis is that the data is heteroscedastic."
      ]
    },
    {
      "cell_type": "markdown",
      "metadata": {
        "id": "ShdKS1eXh_0D",
        "colab_type": "text"
      },
      "source": [
        "When using the Breusch-Pagan test from statsmodels, the input is the residuals from the regression of the dependent variable against the independent varibales. The independent variables must also be inputted as they may affect the variabce of the data. The function outputs a p-value  \n",
        "\n",
        "\n",
        "Documentation for the Breusch-Pagan Test can be found here: \n",
        "https://www.statsmodels.org/dev/generated/statsmodels.stats.diagnostic.het_breuschpagan.html"
      ]
    },
    {
      "cell_type": "code",
      "metadata": {
        "id": "JBUvKAI3iIh7",
        "colab_type": "code",
        "colab": {}
      },
      "source": [
        ""
      ],
      "execution_count": 0,
      "outputs": []
    }
  ]
}