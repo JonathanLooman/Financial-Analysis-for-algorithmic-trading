{
  "nbformat": 4,
  "nbformat_minor": 0,
  "metadata": {
    "colab": {
      "name": "Annualised_Volitility.ipynb",
      "provenance": [],
      "authorship_tag": "ABX9TyMij6dVSNkQ88opcbaCcFK9",
      "include_colab_link": true
    },
    "kernelspec": {
      "name": "python3",
      "display_name": "Python 3"
    }
  },
  "cells": [
    {
      "cell_type": "markdown",
      "metadata": {
        "id": "view-in-github",
        "colab_type": "text"
      },
      "source": [
        "<a href=\"https://colab.research.google.com/github/JonathanLooman/Financial-Analysis-for-algorithmic-trading/blob/master/Annualised_Volitility.ipynb\" target=\"_parent\"><img src=\"https://colab.research.google.com/assets/colab-badge.svg\" alt=\"Open In Colab\"/></a>"
      ]
    },
    {
      "cell_type": "markdown",
      "metadata": {
        "id": "HlTB6_RixWIk",
        "colab_type": "text"
      },
      "source": [
        "Finding the ticker of the most volitile stock. Done as part of Udacities AI for trading course"
      ]
    },
    {
      "cell_type": "code",
      "metadata": {
        "id": "60ZfJXOGr6MS",
        "colab_type": "code",
        "colab": {}
      },
      "source": [
        "# Import necessary packages\n",
        "import pandas as pd\n",
        "import numpy as np"
      ],
      "execution_count": 0,
      "outputs": []
    },
    {
      "cell_type": "code",
      "metadata": {
        "id": "oWDpGKqzxjwm",
        "colab_type": "code",
        "colab": {}
      },
      "source": [
        "def get_most_volitile(prices):\n",
        "  \"\"\"\n",
        "  Return the ticker symbol for the most volatile stock.\n",
        "\n",
        "  Parameters\n",
        "  -----------\n",
        "  prices : pandas.DataFrame\n",
        "      a pandas.DataFrame object with columns: ['ticker', 'date','price']\n",
        "  \n",
        "\n",
        "  Returns\n",
        "  -----------\n",
        "  ticker : string\n",
        "      ticker symbol for the most volatile stock\n",
        "  \"\"\"\n",
        "  prices_df = prices.pivot(index='date', columns='ticker', values='price')\n",
        "  stock_annulaised_volitility_list = []\n",
        "    \n",
        "  [stock_annulaised_volitility_list.append([stock, np.std(prices_df[stock])*np.sqrt(252)]) for stock in prices_df.columns]\n",
        "\n",
        "  df = pd.DataFrame(stock_annulaised_volitility_list, columns = ['date', 'ticker']).set_index('date')\n",
        "\n",
        "  return df.nlargest(1, columns='ticker').index[0]\n",
        "    "
      ],
      "execution_count": 0,
      "outputs": []
    },
    {
      "cell_type": "code",
      "metadata": {
        "id": "bbubZkws4uRq",
        "colab_type": "code",
        "colab": {}
      },
      "source": [
        "def test_run(filename='prices.csv'):\n",
        "    \"\"\"Test run get_most_volatile() with stock prices from a file.\"\"\"\n",
        "    prices = pd.read_csv(filename, parse_dates=['date'])\n",
        "    print(\"Most volatile stock: {}\".format(get_most_volitile(prices)))"
      ],
      "execution_count": 0,
      "outputs": []
    },
    {
      "cell_type": "code",
      "metadata": {
        "id": "HFSTiogT4_5v",
        "colab_type": "code",
        "colab": {
          "base_uri": "https://localhost:8080/",
          "height": 34
        },
        "outputId": "3ecc160b-eb7b-434e-99ec-8b70bc19bb40"
      },
      "source": [
        "test_run()\n"
      ],
      "execution_count": 50,
      "outputs": [
        {
          "output_type": "stream",
          "text": [
            "Most volatile stock: B\n"
          ],
          "name": "stdout"
        }
      ]
    }
  ]
}