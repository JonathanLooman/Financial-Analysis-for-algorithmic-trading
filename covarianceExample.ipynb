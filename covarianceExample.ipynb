{
  "nbformat": 4,
  "nbformat_minor": 0,
  "metadata": {
    "colab": {
      "name": "covarianceExample.ipynb",
      "provenance": [],
      "authorship_tag": "ABX9TyOnP3MgXaCRTNrnVuyqPkmq",
      "include_colab_link": true
    },
    "kernelspec": {
      "name": "python3",
      "display_name": "Python 3"
    }
  },
  "cells": [
    {
      "cell_type": "markdown",
      "metadata": {
        "id": "view-in-github",
        "colab_type": "text"
      },
      "source": [
        "<a href=\"https://colab.research.google.com/github/JonathanLooman/Financial-Analysis-for-algorithmic-trading/blob/master/covarianceExample.ipynb\" target=\"_parent\"><img src=\"https://colab.research.google.com/assets/colab-badge.svg\" alt=\"Open In Colab\"/></a>"
      ]
    },
    {
      "cell_type": "markdown",
      "metadata": {
        "id": "eMLBJOK2sje2",
        "colab_type": "text"
      },
      "source": [
        "# Covariance Matrix\n"
      ]
    },
    {
      "cell_type": "code",
      "metadata": {
        "id": "KYxVz8ESsnM9",
        "colab_type": "code",
        "colab": {}
      },
      "source": [
        "#import packages\n",
        "import numpy as np"
      ],
      "execution_count": 0,
      "outputs": []
    },
    {
      "cell_type": "markdown",
      "metadata": {
        "id": "zibyDx44svR7",
        "colab_type": "text"
      },
      "source": [
        "### covariance matrix\n",
        "If we have $m$ stock series, the covariance matrix is an $m \\times m$ matrix containing the covariance between each pair of stocks.  We can use [numpy.cov](https://docs.scipy.org/doc/numpy/reference/generated/numpy.cov.html) to get the covariance.  We give it a 2D array in which each row is a stock series, and each column is an observation at the same period of time.\n",
        "\n",
        "The covariance matrix $\\mathbf{P} = \n",
        "\\begin{bmatrix}\n",
        "\\sigma^2_{1,1} & ... & \\sigma^2_{1,m} \\\\ \n",
        "... & ... & ...\\\\\n",
        "\\sigma_{m,1} & ... & \\sigma^2_{m,m}  \\\\\n",
        "\\end{bmatrix}$"
      ]
    },
    {
      "cell_type": "code",
      "metadata": {
        "id": "6MjQ7HYbsrkA",
        "colab_type": "code",
        "colab": {
          "base_uri": "https://localhost:8080/",
          "height": 84
        },
        "outputId": "7b93a1ab-61e2-4909-9187-69bc7fb04121"
      },
      "source": [
        "\"\"\"Test with a 3 simulated stock return series\"\"\"\n",
        "days_per_year = 252\n",
        "years = 3\n",
        "total_days = days_per_year * years\n",
        "\n",
        "return_market = np.random.normal(loc=0.05, scale=0.3, size=days_per_year)\n",
        "return_1 = np.random.uniform(low=-0.000001, high=.000001, size=days_per_year) + return_market\n",
        "return_2 = np.random.uniform(low=-0.000001, high=.000001, size=days_per_year) + return_market\n",
        "return_3 = np.random.uniform(low=-0.000001, high=.000001, size=days_per_year) + return_market\n",
        "returns = np.array([return_1, return_2, return_3])\n",
        "\n",
        "\"\"\"try out your function\"\"\"\n",
        "cov = np.cov(returns)\n",
        "\n",
        "print(f\"The covariance matrix is \\n{cov}\")"
      ],
      "execution_count": 2,
      "outputs": [
        {
          "output_type": "stream",
          "text": [
            "The covariance matrix is \n",
            "[[0.09672557 0.09672554 0.09672555]\n",
            " [0.09672554 0.09672552 0.09672553]\n",
            " [0.09672555 0.09672553 0.09672554]]\n"
          ],
          "name": "stdout"
        }
      ]
    }
  ]
}