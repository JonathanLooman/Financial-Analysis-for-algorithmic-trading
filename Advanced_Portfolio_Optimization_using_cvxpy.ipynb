{
  "nbformat": 4,
  "nbformat_minor": 0,
  "metadata": {
    "colab": {
      "name": "Advanced_Portfolio_Optimization_using_cvxpy.ipynb",
      "provenance": [],
      "authorship_tag": "ABX9TyM1AD3zOWvd8MjLitkGDLcj",
      "include_colab_link": true
    },
    "kernelspec": {
      "name": "python3",
      "display_name": "Python 3"
    }
  },
  "cells": [
    {
      "cell_type": "markdown",
      "metadata": {
        "id": "view-in-github",
        "colab_type": "text"
      },
      "source": [
        "<a href=\"https://colab.research.google.com/github/JonathanLooman/Financial-Analysis-for-algorithmic-trading/blob/master/Advanced_Portfolio_Optimization_using_cvxpy.ipynb\" target=\"_parent\"><img src=\"https://colab.research.google.com/assets/colab-badge.svg\" alt=\"Open In Colab\"/></a>"
      ]
    },
    {
      "cell_type": "code",
      "metadata": {
        "id": "wOxZp9kGReAS",
        "colab_type": "code",
        "colab": {}
      },
      "source": [
        ""
      ],
      "execution_count": null,
      "outputs": []
    },
    {
      "cell_type": "markdown",
      "metadata": {
        "id": "E214ypG4ReoL",
        "colab_type": "text"
      },
      "source": [
        "# Advanced Portfolio Optimization using cvxpy\n",
        "This was excercise was completed as part of the AI for trading course from Udacity"
      ]
    },
    {
      "cell_type": "code",
      "metadata": {
        "id": "2DdkVeBVRgrb",
        "colab_type": "code",
        "colab": {}
      },
      "source": [
        "#Imports\n",
        "import cvxpy as cvx\n",
        "import numpy as np"
      ],
      "execution_count": 2,
      "outputs": []
    },
    {
      "cell_type": "markdown",
      "metadata": {
        "id": "c5oF4j87Rhez",
        "colab_type": "text"
      },
      "source": [
        "## What's our objective?\n",
        "http://www.cvxpy.org/\n",
        "\n",
        "Let's see how we can use optimization to meet a more advanced objective.  We want to both minimize the portfolio variance and also want to closely track a market cap weighted index.  In other words, we're trying to minimize the distance between the weights of our portfolio and the weights of the index.\n",
        "\n",
        "$Minimize \\left [ \\sigma^2_p + \\lambda \\sqrt{\\sum_{1}^{m}(weight_i - indexWeight_i)^2} \\right  ]$ where $m$ is the number of stocks in the portfolio, and $\\lambda$ is a scaling factor that you can choose.\n"
      ]
    },
    {
      "cell_type": "markdown",
      "metadata": {
        "id": "7EwWfAMuRq2N",
        "colab_type": "text"
      },
      "source": [
        "\n",
        "### x vector\n",
        "To create a vector of M variables $\\mathbf{x} = \\begin{bmatrix}\n",
        "x_1 &...& x_M\n",
        "\\end{bmatrix}\n",
        "$\n",
        "we can use `cvx.Variable(m)`\n",
        "\n",
        "### covariance matrix\n",
        "If we have $m$ stock series, the covariance matrix is an $m \\times m$ matrix containing the covariance between each pair of stocks.  We can use [numpy.cov](https://docs.scipy.org/doc/numpy/reference/generated/numpy.cov.html) to get the covariance.  We give it a 2D array in which each row is a stock series, and each column is an observation at the same period of time.\n",
        "\n",
        "The covariance matrix $\\mathbf{P} = \n",
        "\\begin{bmatrix}\n",
        "\\sigma^2_{1,1} & ... & \\sigma^2_{1,m} \\\\ \n",
        "... & ... & ...\\\\\n",
        "\\sigma_{m,1} & ... & \\sigma^2_{m,m}  \\\\\n",
        "\\end{bmatrix}$"
      ]
    },
    {
      "cell_type": "markdown",
      "metadata": {
        "id": "DMk90cSQRvV6",
        "colab_type": "text"
      },
      "source": [
        "### portfolio variance\n",
        "We can write the portfolio variance $\\sigma^2_p = \\mathbf{x^T} \\mathbf{P} \\mathbf{x}$\n",
        "\n",
        "Recall that the $\\mathbf{x^T} \\mathbf{P} \\mathbf{x}$ is called the quadratic form.\n",
        "We can use the cvxpy function `quad_form(x,P)` to get the quadratic form.\n",
        "\n",
        "### Distance from index weights\n",
        "We want portfolio weights that track the index closely.  So we want to minimize the distance between them.\n",
        "Recall from the Pythagorean theorem that you can get the distance between two points in an x,y plane by adding the square of the x and y distances and taking the square root.  Extending this to any number of dimensions is called the L2 norm.  So: $\\sqrt{\\sum_{1}^{n}(weight_i - indexWeight_i)^2}$  Can also be written as $\\left \\| \\mathbf{x} - \\mathbf{index} \\right \\|_2$.  There's a cvxpy function called [norm()](https://www.cvxpy.org/api_reference/cvxpy.atoms.other_atoms.html#norm)\n",
        "`norm(x, p=2, axis=None)`.  The default is already set to find an L2 norm, so you would pass in one argument, which is the difference between your portfolio weights and the index weights.\n",
        "\n",
        "### objective function\n",
        "We want to minimize both the portfolio variance and the distance of the portfolio weights from the index weights.\n",
        "We also want to choose a `scale` constant, which is $\\lambda$ in the expression. This lets us choose how much priority we give to minimizing the difference from the index, relative to minimizing the variance of the portfolio.  If you choose a higher value for `scale` ($\\lambda$), do you think this gives more priority to minimizing the difference, or minimizing the variance?\n",
        "\n",
        "We can find the objective function using cvxpy `objective = cvx.Minimize()`.  Can you guess what to pass into this function?\n",
        "\n",
        "### constraints\n",
        "We can also define our constraints in a list.  For example, you'd want the weights to sum to one. So $\\sum_{1}^{n}x = 1$.  You may also need to go long only, which means no shorting, so no negative weights.  So $x_i >0 $ for all $i$. you could save a variable as `[x >= 0, sum(x) == 1]`, where x was created using `cvx.Variable()`."
      ]
    },
    {
      "cell_type": "markdown",
      "metadata": {
        "id": "dUb5XSM8RyZS",
        "colab_type": "text"
      },
      "source": [
        "### optimization\n",
        "So now that we have our objective function and constraints, we can solve for the values of $\\mathbf{x}$.\n",
        "cvxpy has the constructor `Problem(objective, constraints)`, which returns a `Problem` object.\n",
        "\n",
        "The `Problem` object has a function solve(), which returns the minimum of the solution.  In this case, this is the minimum variance of the portfolio.\n",
        "\n",
        "It also updates the vector $\\mathbf{x}$.\n",
        "\n",
        "We can check out the values of $x_A$ and $x_B$ that gave the minimum portfolio variance by using `x.value`"
      ]
    },
    {
      "cell_type": "code",
      "metadata": {
        "id": "XlywWrusRnnD",
        "colab_type": "code",
        "colab": {}
      },
      "source": [
        "def optimize_portfolio(returns, index_weights, scale=.00001):\n",
        "\n",
        "    \"\"\"\n",
        "    Create a function that takes the return series of a set of stocks, the index weights,\n",
        "    and scaling factor. The function will minimize a combination of the portfolio variance\n",
        "    and the distance of its weights from the index weights.  \n",
        "    The optimization will be constrained to be long only, and the weights should sum to one.\n",
        "    \n",
        "    Parameters\n",
        "    ----------\n",
        "    returns : numpy.ndarray\n",
        "        2D array containing stock return series in each row.\n",
        "        \n",
        "    index_weights : numpy.ndarray\n",
        "        1D numpy array containing weights of the index.\n",
        "        \n",
        "    scale : float\n",
        "        The scaling factor applied to the distance between portfolio and index weights\n",
        "        \n",
        "    Returns\n",
        "    -------\n",
        "    x : np.ndarray\n",
        "        A numpy ndarray containing the weights of the stocks in the optimized portfolio\n",
        "    \"\"\"\n",
        "    m = returns.shape[0]\n",
        "    cov = np.cov(returns)\n",
        "    x = cvx.Variable(m)\n",
        "    portfolio_variance = cvx.quad_form(x, cov)\n",
        "    distance_to_index = cvx.norm(x - index_weights)\n",
        "    objective = cvx.Minimize(portfolio_variance + scale * distance_to_index)\n",
        "    constraints = [x >= 0, sum(x) == 1]\n",
        "    cvx.Problem(objective, constraints).solve()\n",
        "    x_values = x.value\n",
        "    return x_values"
      ],
      "execution_count": 4,
      "outputs": []
    },
    {
      "cell_type": "code",
      "metadata": {
        "id": "8iZjG1hzSVIz",
        "colab_type": "code",
        "colab": {
          "base_uri": "https://localhost:8080/",
          "height": 34
        },
        "outputId": "27d59142-4721-4d06-ff4a-6043ea816121"
      },
      "source": [
        "\"\"\"Test with a 3 simulated stock return series\"\"\"\n",
        "days_per_year = 252\n",
        "years = 3\n",
        "total_days = days_per_year * years\n",
        "\n",
        "return_market = np.random.normal(loc=0.05, scale=0.3, size=days_per_year)\n",
        "return_1 = np.random.uniform(low=-0.000001, high=.000001, size=days_per_year) + return_market\n",
        "return_2 = np.random.uniform(low=-0.000001, high=.000001, size=days_per_year) + return_market\n",
        "return_3 = np.random.uniform(low=-0.000001, high=.000001, size=days_per_year) + return_market\n",
        "returns = np.array([return_1, return_2, return_3])\n",
        "\n",
        "\"\"\"simulate index weights\"\"\"\n",
        "index_weights = np.array([0.9,0.15,0.05])\n",
        "\n",
        "\"\"\"try out your optimization function\"\"\"\n",
        "x_values = optimize_portfolio(returns, index_weights, scale=.00001)\n",
        "\n",
        "print(f\"The optimized weights are {x_values}, which sum to {sum(x_values):.2f}\")"
      ],
      "execution_count": 5,
      "outputs": [
        {
          "output_type": "stream",
          "text": [
            "The optimized weights are [0.86737439 0.11600091 0.01662469], which sum to 1.00\n"
          ],
          "name": "stdout"
        }
      ]
    },
    {
      "cell_type": "code",
      "metadata": {
        "id": "dk0Ebn7VSdCy",
        "colab_type": "code",
        "colab": {}
      },
      "source": [
        ""
      ],
      "execution_count": null,
      "outputs": []
    }
  ]
}